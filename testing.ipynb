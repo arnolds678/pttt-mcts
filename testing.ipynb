{
 "cells": [
  {
   "cell_type": "code",
   "execution_count": 1,
   "metadata": {},
   "outputs": [],
   "source": [
    "import numpy as np"
   ]
  },
  {
   "cell_type": "code",
   "execution_count": 2,
   "metadata": {},
   "outputs": [],
   "source": [
    "from games import PTTTGame \n",
    "from mcts import MCTS"
   ]
  },
  {
   "cell_type": "code",
   "execution_count": 3,
   "metadata": {},
   "outputs": [],
   "source": [
    "game = PTTTGame(['|', '|'], [['|'], ['|']])"
   ]
  },
  {
   "cell_type": "code",
   "execution_count": 4,
   "metadata": {},
   "outputs": [],
   "source": [
    "mcts = MCTS(game, 100000)"
   ]
  },
  {
   "cell_type": "code",
   "execution_count": 5,
   "metadata": {},
   "outputs": [
    {
     "data": {
      "text/plain": [
       "(True, [1, -1])"
      ]
     },
     "execution_count": 5,
     "metadata": {},
     "output_type": "execute_result"
    }
   ],
   "source": [
    "board = [0, 1, None, 0, None, 1, 0, None, 1]\n",
    "game._terminal_rewards(board)"
   ]
  },
  {
   "cell_type": "code",
   "execution_count": 6,
   "metadata": {},
   "outputs": [],
   "source": [
    "mcts.simulate(1)"
   ]
  },
  {
   "cell_type": "code",
   "execution_count": 7,
   "metadata": {},
   "outputs": [],
   "source": [
    "mcts.solve()"
   ]
  },
  {
   "cell_type": "code",
   "execution_count": 8,
   "metadata": {},
   "outputs": [
    {
     "name": "stdout",
     "output_type": "stream",
     "text": [
      "0 done out of 14482810\n",
      "1000000 done out of 14482810\n",
      "2000000 done out of 14482810\n",
      "3000000 done out of 14482810\n",
      "4000000 done out of 14482810\n",
      "5000000 done out of 14482810\n",
      "6000000 done out of 14482810\n",
      "7000000 done out of 14482810\n",
      "8000000 done out of 14482810\n",
      "9000000 done out of 14482810\n",
      "10000000 done out of 14482810\n",
      "11000000 done out of 14482810\n",
      "12000000 done out of 14482810\n",
      "13000000 done out of 14482810\n",
      "14000000 done out of 14482810\n"
     ]
    }
   ],
   "source": [
    "mcts.get_strategy(0, 'pttt-infosets/player0-infoset.txt')"
   ]
  },
  {
   "cell_type": "code",
   "execution_count": 9,
   "metadata": {},
   "outputs": [],
   "source": [
    "strategy = np.load('pttt_pl0.npy')"
   ]
  },
  {
   "cell_type": "code",
   "execution_count": 10,
   "metadata": {},
   "outputs": [
    {
     "data": {
      "text/plain": [
       "array([0.11111111, 0.11111111, 0.11111111, 0.11111111, 0.11111111,\n",
       "       0.11111111, 0.11111111, 0.11111111, 0.11111111], dtype=float32)"
      ]
     },
     "execution_count": 10,
     "metadata": {},
     "output_type": "execute_result"
    }
   ],
   "source": [
    "strategy[0]"
   ]
  },
  {
   "cell_type": "code",
   "execution_count": 11,
   "metadata": {},
   "outputs": [
    {
     "data": {
      "text/plain": [
       "array([[0.        , 0.06264841, 0.5420441 , 0.06587667, 0.06264856,\n",
       "        0.0626484 , 0.07883702, 0.0626484 , 0.06264841],\n",
       "       [0.06972373, 0.        , 0.06972373, 0.06972373, 0.5119339 ,\n",
       "        0.06972373, 0.06972373, 0.06972373, 0.06972373],\n",
       "       [0.125     , 0.125     , 0.        , 0.125     , 0.125     ,\n",
       "        0.125     , 0.125     , 0.125     , 0.125     ],\n",
       "       [0.05790646, 0.05790646, 0.05790646, 0.        , 0.59465486,\n",
       "        0.05790646, 0.05790646, 0.05790646, 0.05790646],\n",
       "       [0.08990334, 0.36321297, 0.09708661, 0.08991411, 0.        ,\n",
       "        0.08990289, 0.0899029 , 0.09016943, 0.08990776],\n",
       "       [0.10153155, 0.10153155, 0.10153155, 0.10153155, 0.28927916,\n",
       "        0.        , 0.10153155, 0.10153155, 0.10153155],\n",
       "       [0.37425202, 0.08246925, 0.08246925, 0.08246925, 0.08246925,\n",
       "        0.08246925, 0.        , 0.08246925, 0.1309325 ],\n",
       "       [0.05931379, 0.05931379, 0.05931379, 0.05931379, 0.5846891 ,\n",
       "        0.05931379, 0.05931379, 0.        , 0.05942823],\n",
       "       [0.06698585, 0.06698584, 0.06701331, 0.06698584, 0.5310712 ,\n",
       "        0.06698629, 0.06698586, 0.06698584, 0.        ]], dtype=float32)"
      ]
     },
     "execution_count": 11,
     "metadata": {},
     "output_type": "execute_result"
    }
   ],
   "source": [
    "strategy[1:10]"
   ]
  },
  {
   "cell_type": "code",
   "execution_count": 12,
   "metadata": {},
   "outputs": [
    {
     "data": {
      "text/plain": [
       "array([[0.        , 0.        , 0.07517252, 0.15842232, 0.16331404,\n",
       "        0.21284766, 0.14070408, 0.10353656, 0.14600271],\n",
       "       [0.        , 0.        , 0.69297546, 0.05218361, 0.08179072,\n",
       "        0.0378578 , 0.04373271, 0.03708459, 0.05437509],\n",
       "       [0.        , 0.08150315, 0.        , 0.09286957, 0.24386582,\n",
       "        0.14205004, 0.13367246, 0.11172583, 0.19431312],\n",
       "       [0.        , 0.73320866, 0.        , 0.04444854, 0.04445878,\n",
       "        0.04444718, 0.0445226 , 0.04446077, 0.04445345],\n",
       "       [0.        , 0.07030274, 0.16886227, 0.        , 0.25886902,\n",
       "        0.12964776, 0.13882457, 0.09464319, 0.13885054],\n",
       "       [0.        , 0.02382874, 0.02388422, 0.        , 0.02496518,\n",
       "        0.02386074, 0.8495676 , 0.02841286, 0.02548068],\n",
       "       [0.        , 0.16639324, 0.1489364 , 0.09009338, 0.        ,\n",
       "        0.13379839, 0.20144749, 0.0995842 , 0.1597469 ],\n",
       "       [0.        , 0.08258365, 0.05143835, 0.07649555, 0.        ,\n",
       "        0.0630903 , 0.07749111, 0.0539951 , 0.5949059 ],\n",
       "       [0.        , 0.13002086, 0.24592353, 0.11743348, 0.12879346,\n",
       "        0.        , 0.11598115, 0.11494341, 0.14690411],\n",
       "       [0.        , 0.29415005, 0.10384601, 0.12624015, 0.12759176,\n",
       "        0.        , 0.12861751, 0.10195534, 0.1175992 ],\n",
       "       [0.        , 0.06981359, 0.1325673 , 0.06490237, 0.13056993,\n",
       "        0.07355715, 0.        , 0.43036604, 0.0982236 ],\n",
       "       [0.        , 0.0537539 , 0.0537539 , 0.67747664, 0.0537539 ,\n",
       "        0.0537539 , 0.        , 0.0537539 , 0.0537539 ],\n",
       "       [0.        , 0.21399832, 0.18905434, 0.11097783, 0.15214641,\n",
       "        0.10485715, 0.12146682, 0.        , 0.10749912],\n",
       "       [0.        , 0.06910569, 0.13431554, 0.05550868, 0.38440436,\n",
       "        0.09856929, 0.21062666, 0.        , 0.04746978],\n",
       "       [0.        , 0.12795554, 0.12216297, 0.1737406 , 0.0940783 ,\n",
       "        0.19467224, 0.1658362 , 0.12155414, 0.        ],\n",
       "       [0.        , 0.07054833, 0.15090302, 0.03727731, 0.599011  ,\n",
       "        0.05079673, 0.03853345, 0.05293018, 0.        ]], dtype=float32)"
      ]
     },
     "execution_count": 12,
     "metadata": {},
     "output_type": "execute_result"
    }
   ],
   "source": [
    "strategy[10:26]"
   ]
  },
  {
   "cell_type": "code",
   "execution_count": 13,
   "metadata": {},
   "outputs": [
    {
     "data": {
      "text/plain": [
       "array([[0.1944703 , 0.        , 0.20761979, ..., 0.1944703 , 0.22137372,\n",
       "        0.        ],\n",
       "       [0.1946709 , 0.        , 0.20681717, ..., 0.20765461, 0.19551472,\n",
       "        0.        ],\n",
       "       [0.20135634, 0.        , 0.19457465, ..., 0.20135634, 0.20135634,\n",
       "        0.        ],\n",
       "       ...,\n",
       "       [0.25      , 0.        , 0.25      , ..., 0.25      , 0.        ,\n",
       "        0.        ],\n",
       "       [0.        , 0.        , 0.25      , ..., 0.25      , 0.        ,\n",
       "        0.25      ],\n",
       "       [0.        , 0.        , 0.24651733, ..., 0.26044807, 0.        ,\n",
       "        0.24651733]], dtype=float32)"
      ]
     },
     "execution_count": 13,
     "metadata": {},
     "output_type": "execute_result"
    }
   ],
   "source": [
    "strategy[10030:111234]"
   ]
  },
  {
   "cell_type": "code",
   "execution_count": 16,
   "metadata": {},
   "outputs": [
    {
     "name": "stdout",
     "output_type": "stream",
     "text": [
      "0 done out of 8827459\n",
      "1000000 done out of 8827459\n",
      "2000000 done out of 8827459\n",
      "3000000 done out of 8827459\n",
      "4000000 done out of 8827459\n",
      "5000000 done out of 8827459\n",
      "6000000 done out of 8827459\n",
      "7000000 done out of 8827459\n",
      "8000000 done out of 8827459\n"
     ]
    }
   ],
   "source": [
    "mcts.get_strategy(1, 'pttt-infosets/player1-infoset.txt')"
   ]
  },
  {
   "cell_type": "code",
   "execution_count": null,
   "metadata": {},
   "outputs": [],
   "source": []
  }
 ],
 "metadata": {
  "kernelspec": {
   "display_name": "Python 3",
   "language": "python",
   "name": "python3"
  },
  "language_info": {
   "codemirror_mode": {
    "name": "ipython",
    "version": 3
   },
   "file_extension": ".py",
   "mimetype": "text/x-python",
   "name": "python",
   "nbconvert_exporter": "python",
   "pygments_lexer": "ipython3",
   "version": "3.12.1"
  }
 },
 "nbformat": 4,
 "nbformat_minor": 2
}
